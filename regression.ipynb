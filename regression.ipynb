{
 "cells": [
  {
   "cell_type": "code",
   "execution_count": 9,
   "id": "8116a39b",
   "metadata": {},
   "outputs": [
    {
     "name": "stdout",
     "output_type": "stream",
     "text": [
      "回归系数 (斜率): [200000. 800000. 200000. 300000.]\n",
      "截距: 1.862645149230957e-09\n",
      "y = 1.862645149230957e-09 + 199999.99999999997 * A + 799999.9999999997 * C + 200000.0 * E + 299999.9999999997 * F\n",
      "MAE: 0.06405535438196748\n",
      "MSE: 0.005958834690528947\n",
      "RMSE: 0.07719348865370024\n",
      "bias: 0.012074480820282415\n",
      "variance: 0.055882496354067814\n"
     ]
    }
   ],
   "source": [
    "import statsmodels.api as sm\n",
    "import numpy as np\n",
    "import pandas as pd\n",
    "from sklearn.preprocessing import MinMaxScaler,StandardScaler\n",
    "from sklearn.metrics import mean_absolute_error, mean_squared_error\n",
    "from sklearn.linear_model import LinearRegression\n",
    "import matplotlib.pyplot as plt\n",
    "\n",
    "# 讀取CSV檔\n",
    "data = pd.read_csv(r'C:\\Users\\tiffa\\Downloads\\regression_exercise.csv')\n",
    "# 定義自變數和因變數\n",
    "X = data[['A','C','E','F']]\n",
    "y = data['Y']\n",
    "\n",
    "# 建立线性回归模型\n",
    "model = LinearRegression()  # 使用LinearRegression初始化模型\n",
    "results = model.fit(X, y)  # 使用X和y拟合模型\n",
    "\n",
    "\n",
    "# 输出回归系数和截距\n",
    "print(\"回歸系数 (斜率):\", results.coef_)\n",
    "print(\"截距:\", results.intercept_)\n",
    "\n",
    "\n",
    "coef_flat = results.coef_.flatten()\n",
    "intercept_flat = results.intercept_.flatten()\n",
    "\n",
    "# 構建線性回歸方程的字串表示\n",
    "equation = f\"y = {intercept_flat[0]}\"\n",
    "\n",
    "for i, feature_name in enumerate(['A', 'C', 'E', 'F']):\n",
    "    equation += f\" + {coef_flat[i]} * {feature_name}\"\n",
    "\n",
    "print(equation)\n",
    "\n",
    "\n",
    "#將目標變數正規化\n",
    "scaler = MinMaxScaler()  # 使用MinMaxScaler進行正規化\n",
    "normalized_target = scaler.fit_transform(y.values.reshape(-1, 1))\n",
    "y = normalized_target  # 將正規化後的目標欄位放回原始資料框中\n",
    "x = normalized_target\n",
    "\n",
    "# 建立線性回歸模型\n",
    "model = sm.OLS(y, X)\n",
    "results = model.fit()\n",
    "# 得到模型的預測值\n",
    "predicted_values = results.predict(X)\n",
    "predicted_values = predicted_values.values.reshape(-1)\n",
    "\n",
    "#計算MAE,MSE,RMSE,Bias,Variance值\n",
    "mae = mean_absolute_error(y, predicted_values)\n",
    "mse = mean_squared_error(y, predicted_values)\n",
    "rmse = np.sqrt(mse)\n",
    "bias = np.mean(predicted_values - y)\n",
    "variance = np.var(predicted_values)\n",
    "\n",
    "# 輸出結果\n",
    "\n",
    "print(\"MAE:\", mae)\n",
    "print(\"MSE:\", mse)\n",
    "print(\"RMSE:\", rmse)\n",
    "print(\"bias:\", bias)\n",
    "print(\"variance:\", variance)\n",
    "\n",
    "\n"
   ]
  },
  {
   "cell_type": "code",
   "execution_count": null,
   "id": "8f85d09f",
   "metadata": {},
   "outputs": [],
   "source": []
  }
 ],
 "metadata": {
  "kernelspec": {
   "display_name": "Python 3",
   "language": "python",
   "name": "python3"
  },
  "language_info": {
   "codemirror_mode": {
    "name": "ipython",
    "version": 3
   },
   "file_extension": ".py",
   "mimetype": "text/x-python",
   "name": "python",
   "nbconvert_exporter": "python",
   "pygments_lexer": "ipython3",
   "version": "3.8.8"
  }
 },
 "nbformat": 4,
 "nbformat_minor": 5
}
